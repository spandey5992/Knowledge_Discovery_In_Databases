{
  "nbformat": 4,
  "nbformat_minor": 0,
  "metadata": {
    "colab": {
      "name": "KDD_Project.ipynb",
      "provenance": [],
      "collapsed_sections": [
        "KkoxqzYCRiMI",
        "5F8hIEMBHOwz",
        "Zk3POmPrIU_C",
        "M27p3-eoPNY9",
        "bo9bVdL4SoYQ",
        "0JygdmLYWgOl",
        "zUmpcmldTACh",
        "GWGE-UrfXP4I",
        "FyuzgFAiYDKH",
        "nM6GfsXTnc6S"
      ],
      "include_colab_link": true
    },
    "kernelspec": {
      "display_name": "Python 3",
      "language": "python",
      "name": "python3"
    },
    "language_info": {
      "codemirror_mode": {
        "name": "ipython",
        "version": 3
      },
      "file_extension": ".py",
      "mimetype": "text/x-python",
      "name": "python",
      "nbconvert_exporter": "python",
      "pygments_lexer": "ipython3",
      "version": "3.8.5"
    }
  },
  "cells": [
    {
      "cell_type": "markdown",
      "metadata": {
        "id": "view-in-github",
        "colab_type": "text"
      },
      "source": [
        "<a href=\"https://colab.research.google.com/github/spandey5992/Knowledge_Discovery_In_Databases/blob/main/KDD_Project.ipynb\" target=\"_parent\"><img src=\"https://colab.research.google.com/assets/colab-badge.svg\" alt=\"Open In Colab\"/></a>"
      ]
    },
    {
      "cell_type": "markdown",
      "metadata": {
        "id": "OOEl-Wi4ISuh"
      },
      "source": [
        "# **Index**\n",
        "----\n",
        "\n",
        "\n",
        "1.  [Imports and Tools](#1) <br>\n",
        "    1-A. [Imports](#1-A) <br>\n",
        "    1-B. [Progress bar display](#1-B) <br>\n",
        "    1-C. [Requests manager](#1-C) <br>\n",
        "2.   [Data Loading/Collection](#2) <br>\n",
        "    2-A. [Gather data from the Spotify API](#2-A) <br>\n",
        "    2-B. [Load dataset and show first 5 rows](#2-B) <br>\n",
        "3.   [Data Cleaning](#3) <br>\n",
        "    3-A. [Fix release dates](#3-A) <br>\n",
        "    3-B. [Load covid dataset for a specific country](#3-B) <br>\n",
        "4.   [Show missing values](#4) <br>\n",
        "    4-A. [Plot missing values per country by week charted](#4-A) <br>\n",
        "    4-B. [Plot missing values for the current country for each position missing in every week charted](#4-B) <br>\n",
        "5.   [Data Visualization](#5) <br>\n",
        "    5-A. [Genres](#5-A) <br>\n",
        "    5-B. [Song features](#5-B) <br>\n",
        "\n",
        "\n",
        "\n",
        "\n",
        "\n",
        "\n",
        "\n"
      ]
    },
    {
      "cell_type": "markdown",
      "metadata": {
        "id": "VU9jl_wP8fZV"
      },
      "source": [
        "<a name=\"1\"></a>\n",
        "# 1. Imports and Tools\n",
        "---\n",
        "\n"
      ]
    },
    {
      "cell_type": "markdown",
      "metadata": {
        "id": "KkoxqzYCRiMI"
      },
      "source": [
        "[link text](https://)<a name=\"1-A\"></a>\n",
        "## 1-A. Imports"
      ]
    },
    {
      "cell_type": "code",
      "metadata": {
        "id": "ngSMiEBuvecS"
      },
      "source": [
        "import json\n",
        "import os\n",
        "import re\n",
        "import time\n",
        "from datetime import date, timedelta, datetime\n",
        "\n",
        "from matplotlib import pyplot as plt\n",
        "import missingno as msno\n",
        "import numpy as np\n",
        "import pandas as pd\n",
        "import seaborn as sns\n",
        "from sklearn.preprocessing import MultiLabelBinarizer\n",
        "import warnings\n",
        "\n",
        "# Turns off warnings for pandas/numpy\n",
        "warnings.simplefilter(action='ignore', category=FutureWarning)\n",
        "\n",
        "# Downloads all necessary files\n",
        "if not os.path.exists('spotify_dataset.feather'):\n",
        "    !gdown --id 1yki5ICaRcB5KY4psE4qVzqyGXxMGhFhE\n",
        "if not os.path.exists('spotify_genre.feather'):\n",
        "    !gdown --id 1DnHntMvoTZSnQhM12tBzdKYmTtSg7AB2\n",
        "if not os.path.exists('spotify_dataset_us.csv'):\n",
        "    !gdown --id 1lBMhg2_NBwD2NOM6VFLWX1N_TAPLd5oS\n",
        "if not os.path.exists('owid-covid-data.csv'):\n",
        "    !gdown --id 16QKydmHUopDbtkMAlK0v0OmJwLZFePwx"
      ],
      "execution_count": null,
      "outputs": []
    },
    {
      "cell_type": "markdown",
      "metadata": {
        "id": "5F8hIEMBHOwz"
      },
      "source": [
        "<a name=\"1-B\"></a>\n",
        "### 1-B. Progress bar display\n",
        "This creates a loading bar to show progress for processes involving downloading/transforming data."
      ]
    },
    {
      "cell_type": "code",
      "metadata": {
        "id": "xdCSu4RBXRrU"
      },
      "source": [
        "#@title  { display-mode: \"form\" }\n",
        "from IPython.display import HTML, display\n",
        "\n",
        "def progress(value, max=100):\n",
        "    return HTML(\"\"\"\n",
        "        <progress\n",
        "            value='{value}'\n",
        "            max='{max}',\n",
        "            style='width: 100%'\n",
        "        >\n",
        "            {value}\n",
        "        </progress>\n",
        "    \"\"\".format(value=value, max=max))\n"
      ],
      "execution_count": null,
      "outputs": []
    },
    {
      "cell_type": "markdown",
      "metadata": {
        "id": "PZUwJ1PWHnOh"
      },
      "source": [
        "<a name=\"1-C\"></a>\n",
        "### 1-C. Requests manager\n",
        "In order to prevent an API request from failing over a rate limit, we use this tool to retry the request on failure. "
      ]
    },
    {
      "cell_type": "code",
      "metadata": {
        "id": "lOYh2d7Q5YvN"
      },
      "source": [
        "#@title  { display-mode: \"form\" }\n",
        "import requests\n",
        "from requests.adapters import HTTPAdapter\n",
        "from requests.packages.urllib3.util.retry import Retry\n",
        "\n",
        "retry_strategy = Retry(\n",
        "    total=5,\n",
        "    backoff_factor=1,\n",
        "    status_forcelist=[429, 500, 502, 503, 504],\n",
        "    method_whitelist=[\"HEAD\", \"GET\", \"OPTIONS\"]\n",
        ")\n",
        "adapter = HTTPAdapter(max_retries=retry_strategy)\n",
        "http = requests.Session()\n",
        "http.mount(\"https://\", adapter)\n",
        "http.mount(\"http://\", adapter)\n"
      ],
      "execution_count": null,
      "outputs": []
    },
    {
      "cell_type": "markdown",
      "metadata": {
        "id": "pkMB-Gq5IMsn"
      },
      "source": [
        "<a name=\"2\"></a>\n",
        "# 2. Data Loading/Collection\n",
        "---"
      ]
    },
    {
      "cell_type": "markdown",
      "metadata": {
        "id": "Zk3POmPrIU_C"
      },
      "source": [
        "<a name=\"2-A\"></a>\n",
        "### 2-A. Gather data from the Spotify API (this takes a long time)\n",
        "We need to use Spotify's API to collect information about a song such as its release date, genres, and audio features. Due to the time consuming nature of this code, we only have to run it if the result for this method was not already preloaded. "
      ]
    },
    {
      "cell_type": "code",
      "metadata": {
        "id": "zWpelH9nvoDG"
      },
      "source": [
        "#@title  { display-mode: \"form\" }\n",
        "if not os.path.exists(\"spotify_dataset.feather\"):\n",
        "    token = \"<insert_token_here>\"\n",
        "    df = pd.read_csv(\"spotify_charts_dataset.csv\", index_col=0)\n",
        "    df[\"song_id\"] = df.pop(\"id\")\n",
        "    df = df[df.song_id != \"#\"]\n",
        "    df.pop(\"track\")\n",
        "    song_ids = df[\"song_id\"].unique().tolist()\n",
        "    audio_feature_cols = [\n",
        "        \"song_id\",\n",
        "        \"danceability\",\n",
        "        \"energy\",\n",
        "        \"key\",\n",
        "        \"loudness\",\n",
        "        \"mode\",\n",
        "        \"speechiness\",\n",
        "        \"acousticness\",\n",
        "        \"instrumentalness\",\n",
        "        \"liveness\",\n",
        "        \"valence\",\n",
        "        \"tempo\",\n",
        "        \"duration_ms\",\n",
        "        \"time_signature\",\n",
        "    ]\n",
        "    afdf = pd.DataFrame()\n",
        "    gdf = pd.DataFrame()\n",
        "    out = display(progress(0, 100), display_id=True)\n",
        "\n",
        "    i = 0\n",
        "    while i < len(song_ids):\n",
        "        out.update(progress(i / len(song_ids) * 100, 100))\n",
        "        songs = song_ids[i : min(50 + i, len(song_ids))]\n",
        "        url = f'https://api.spotify.com/v1/audio-features?ids={\",\".join(songs)}'\n",
        "        req = http.get(\n",
        "            url,\n",
        "            headers={\n",
        "                \"Accept\": \"application/json\",\n",
        "                \"Content-Type\": \"application/json\",\n",
        "                \"Authorization\": f\"Bearer {token}\",\n",
        "            },\n",
        "        )\n",
        "        try:\n",
        "            data = req.json()[\"audio_features\"]\n",
        "\n",
        "        except:\n",
        "            if 'error' in req.json() and int(req.json()['error']['status']) == 401:\n",
        "                token = input(\"Input new token: \")\n",
        "                continue\n",
        "            print(req.json())\n",
        "            print(url)\n",
        "            break\n",
        "        for j, item in enumerate(data):\n",
        "            if item is None:\n",
        "                data[j] = {}\n",
        "                data[j][\"song_id\"] = songs[j]\n",
        "                for col in audio_feature_cols[1:]:\n",
        "                    data[j][col] = None\n",
        "                continue\n",
        "            item[\"song_id\"] = songs[j]\n",
        "\n",
        "        audio_features_df = pd.DataFrame(data)[audio_feature_cols]\n",
        "        url = f'https://api.spotify.com/v1/tracks?ids={\",\".join(songs)}'\n",
        "        req = http.get(\n",
        "            url,\n",
        "            headers={\n",
        "                \"Accept\": \"application/json\",\n",
        "                \"Content-Type\": \"application/json\",\n",
        "                \"Authorization\": f\"Bearer {token}\",\n",
        "            },\n",
        "        )\n",
        "        try:\n",
        "            data = req.json()[\"tracks\"]\n",
        "        except:\n",
        "            if 'error' in req.json() and int(req.json()['error']['status']) == 401:\n",
        "                token = input(\"Input new token: \")\n",
        "                continue\n",
        "            print(req.json())\n",
        "            print(url)\n",
        "            break\n",
        "\n",
        "        artist_df = pd.DataFrame(\n",
        "            [\n",
        "                {\n",
        "                    \"song_id\": songs[j],\n",
        "                    \"track\": item[\"name\"],\n",
        "                    \"release_date\": item[\"album\"][\"release_date\"],\n",
        "                    \"artist_id\": item[\"artists\"][0][\"id\"],\n",
        "                }\n",
        "                for j, item in enumerate(data)\n",
        "            ]\n",
        "        )\n",
        "\n",
        "        combined_df = pd.merge(audio_features_df, artist_df, on=\"song_id\")\n",
        "        afdf = afdf.append(combined_df, ignore_index=True)\n",
        "\n",
        "        i += min(50, len(song_ids) - i)\n",
        "    artist_ids = afdf[\"artist_id\"].unique().tolist()\n",
        "    genre_df = pd.DataFrame()\n",
        "    i = 0\n",
        "    out = display(progress(0, 100), display_id=True)\n",
        "    while i < len(artist_ids):\n",
        "        out.update(progress(i / len(artist_ids) * 100, 100))\n",
        "        artists = artist_ids[i : min(15 + i, len(artist_ids))]\n",
        "        req = http.get(\n",
        "            f'https://api.spotify.com/v1/artists?ids={\",\".join(artists)}',\n",
        "            headers={\n",
        "                \"Accept\": \"application/json\",\n",
        "                \"Content-Type\": \"application/json\",\n",
        "                \"Authorization\": f\"Bearer {token}\",\n",
        "            },\n",
        "        )\n",
        "        try:\n",
        "            data = req.json()[\"artists\"]\n",
        "        except:\n",
        "            print(req.json())\n",
        "            break\n",
        "\n",
        "        for j, item in enumerate(data):\n",
        "            item[\"id\"] = artists[j]\n",
        "            item[\"artist\"] = item[\"name\"]\n",
        "        genre_df = genre_df.append(data, ignore_index=True)[[\"id\", \"artist\", \"genres\"]]\n",
        "        i += min(15, len(artist_ids) - i)\n",
        "\n",
        "    genre_df[\"artist_id\"] = genre_df.pop(\"id\")\n",
        "    afdf = pd.merge(afdf, genre_df, on=\"artist_id\")\n",
        "\n",
        "    df = pd.merge(df, afdf, on=\"song_id\")\n",
        "    df['genres'] = df['genres'].apply(lambda x: str(x))\n",
        "    df.to_feather('spotify_dataset.feather')\n"
      ],
      "execution_count": null,
      "outputs": []
    },
    {
      "cell_type": "markdown",
      "metadata": {
        "id": "M27p3-eoPNY9"
      },
      "source": [
        "<a name=\"2-B\"></a>\n",
        "### 2-B. Load dataset and show first 5 rows\n",
        "There is a dropdown box that allows for the a certain country's spotify data to be selected. The data is then transformed to fit the needs of the notebook."
      ]
    },
    {
      "cell_type": "code",
      "metadata": {
        "colab": {
          "base_uri": "https://localhost:8080/"
        },
        "id": "AWb1kQbv9olv",
        "outputId": "e394d75e-5c51-400b-879a-8d247484db6d"
      },
      "source": [
        "\n",
        "#@title  { run: \"auto\", vertical-output: true, display-mode: \"form\" }\n",
        "country = 'us' #@param ['us','all','global','ae', 'ar', 'at', 'au', 'be', 'bg', 'bo', 'br', 'ca', 'ch', 'cl', 'co', 'cr', 'cy', 'cz', 'de', 'dk', 'do', 'ec', 'ee', 'eg', 'es', 'fi', 'fr', 'gb', 'gr', 'gt', 'hk', 'hn', 'hu', 'id', 'ie', 'il', 'in', 'is', 'it', 'jp', 'kr', 'lt', 'lu', 'lv', 'ma', 'mx', 'my', 'ni', 'nl', 'no', 'nz', 'pa', 'pe', 'ph', 'pl', 'pt', 'py', 'ro', 'ru', 'sa', 'se', 'sg', 'sk', 'sv', 'th', 'tr', 'tw', 'ua', 'uy', 'vn', 'za']\n",
        "df = pd.read_feather('spotify_dataset.feather')\n",
        "if not country == 'all':\n",
        "    # select the specified country\n",
        "    df = df[df.country == country]\n",
        "    # convert str of list to list\n",
        "    df['genres'] = df['genres'].apply(lambda x: eval(x))\n",
        "# remove incomplete rows\n",
        "df.dropna(inplace=True)\n",
        "# shorten release_date to just the year\n",
        "df['release_date'] = df['release_date'].apply(lambda x: x.split('-')[0])\n",
        "# country is changed to region because it conflicts with the genre of country that we add as a field later on\n",
        "df['region'] = df.pop('country')\n",
        "# convert week_charted to datetime format\n",
        "df['week_charted'] = pd.to_datetime(df['week_charted'])\n",
        "# sort values into a readable format\n",
        "df = df.sort_values(['region','week_charted', 'position']).reset_index(drop=True)\n",
        "df.head()\n"
      ],
      "execution_count": null,
      "outputs": [
        {
          "output_type": "execute_result",
          "data": {
            "text/html": [
              "<div>\n",
              "<style scoped>\n",
              "    .dataframe tbody tr th:only-of-type {\n",
              "        vertical-align: middle;\n",
              "    }\n",
              "\n",
              "    .dataframe tbody tr th {\n",
              "        vertical-align: top;\n",
              "    }\n",
              "\n",
              "    .dataframe thead th {\n",
              "        text-align: right;\n",
              "    }\n",
              "</style>\n",
              "<table border=\"1\" class=\"dataframe\">\n",
              "  <thead>\n",
              "    <tr style=\"text-align: right;\">\n",
              "      <th></th>\n",
              "      <th>position</th>\n",
              "      <th>streams</th>\n",
              "      <th>week_charted</th>\n",
              "      <th>song_id</th>\n",
              "      <th>danceability</th>\n",
              "      <th>energy</th>\n",
              "      <th>key</th>\n",
              "      <th>loudness</th>\n",
              "      <th>mode</th>\n",
              "      <th>speechiness</th>\n",
              "      <th>acousticness</th>\n",
              "      <th>instrumentalness</th>\n",
              "      <th>liveness</th>\n",
              "      <th>valence</th>\n",
              "      <th>tempo</th>\n",
              "      <th>duration_ms</th>\n",
              "      <th>time_signature</th>\n",
              "      <th>track</th>\n",
              "      <th>release_date</th>\n",
              "      <th>artist_id</th>\n",
              "      <th>artist</th>\n",
              "      <th>genres</th>\n",
              "      <th>region</th>\n",
              "    </tr>\n",
              "  </thead>\n",
              "  <tbody>\n",
              "    <tr>\n",
              "      <th>0</th>\n",
              "      <td>1</td>\n",
              "      <td>8618267</td>\n",
              "      <td>2016-12-23</td>\n",
              "      <td>343YBumqHu19cGoGARUTsd</td>\n",
              "      <td>0.928</td>\n",
              "      <td>0.481</td>\n",
              "      <td>9.0</td>\n",
              "      <td>-9.350</td>\n",
              "      <td>0.0</td>\n",
              "      <td>0.2870</td>\n",
              "      <td>0.105</td>\n",
              "      <td>0.000000</td>\n",
              "      <td>0.176</td>\n",
              "      <td>0.613</td>\n",
              "      <td>134.007</td>\n",
              "      <td>210937.0</td>\n",
              "      <td>4.0</td>\n",
              "      <td>Fake Love</td>\n",
              "      <td>2017</td>\n",
              "      <td>3TVXtAsR1Inumwj472S9r4</td>\n",
              "      <td>Drake</td>\n",
              "      <td>[canadian hip hop, canadian pop, hip hop, rap,...</td>\n",
              "      <td>us</td>\n",
              "    </tr>\n",
              "    <tr>\n",
              "      <th>1</th>\n",
              "      <td>2</td>\n",
              "      <td>7946032</td>\n",
              "      <td>2016-12-23</td>\n",
              "      <td>4Km5HrUvYTaSUfiSGPJeQR</td>\n",
              "      <td>0.927</td>\n",
              "      <td>0.665</td>\n",
              "      <td>11.0</td>\n",
              "      <td>-5.313</td>\n",
              "      <td>1.0</td>\n",
              "      <td>0.2440</td>\n",
              "      <td>0.061</td>\n",
              "      <td>0.000000</td>\n",
              "      <td>0.123</td>\n",
              "      <td>0.175</td>\n",
              "      <td>127.076</td>\n",
              "      <td>343150.0</td>\n",
              "      <td>4.0</td>\n",
              "      <td>Bad and Boujee (feat. Lil Uzi Vert)</td>\n",
              "      <td>2017</td>\n",
              "      <td>6oMuImdp5ZcFhWP0ESe6mG</td>\n",
              "      <td>Migos</td>\n",
              "      <td>[atl hip hop, pop rap, rap, trap]</td>\n",
              "      <td>us</td>\n",
              "    </tr>\n",
              "    <tr>\n",
              "      <th>2</th>\n",
              "      <td>3</td>\n",
              "      <td>7738517</td>\n",
              "      <td>2016-12-23</td>\n",
              "      <td>5aAx2yezTd8zXrkmtKl66Z</td>\n",
              "      <td>0.681</td>\n",
              "      <td>0.594</td>\n",
              "      <td>7.0</td>\n",
              "      <td>-7.028</td>\n",
              "      <td>1.0</td>\n",
              "      <td>0.2820</td>\n",
              "      <td>0.165</td>\n",
              "      <td>0.000003</td>\n",
              "      <td>0.134</td>\n",
              "      <td>0.535</td>\n",
              "      <td>186.054</td>\n",
              "      <td>230453.0</td>\n",
              "      <td>4.0</td>\n",
              "      <td>Starboy</td>\n",
              "      <td>2016</td>\n",
              "      <td>1Xyo4u8uXC1ZmMpatF05PJ</td>\n",
              "      <td>The Weeknd</td>\n",
              "      <td>[canadian contemporary r&amp;b, canadian pop, pop]</td>\n",
              "      <td>us</td>\n",
              "    </tr>\n",
              "    <tr>\n",
              "      <th>3</th>\n",
              "      <td>4</td>\n",
              "      <td>6209336</td>\n",
              "      <td>2016-12-23</td>\n",
              "      <td>6fujklziTHa8uoM5OQSfIo</td>\n",
              "      <td>0.794</td>\n",
              "      <td>0.632</td>\n",
              "      <td>0.0</td>\n",
              "      <td>-6.163</td>\n",
              "      <td>1.0</td>\n",
              "      <td>0.0649</td>\n",
              "      <td>0.142</td>\n",
              "      <td>0.000000</td>\n",
              "      <td>0.128</td>\n",
              "      <td>0.355</td>\n",
              "      <td>145.926</td>\n",
              "      <td>291893.0</td>\n",
              "      <td>4.0</td>\n",
              "      <td>Black Beatles</td>\n",
              "      <td>2016</td>\n",
              "      <td>7iZtZyCzp3LItcw1wtPI3D</td>\n",
              "      <td>Rae Sremmurd</td>\n",
              "      <td>[hip hop, melodic rap, mississippi hip hop, po...</td>\n",
              "      <td>us</td>\n",
              "    </tr>\n",
              "    <tr>\n",
              "      <th>4</th>\n",
              "      <td>5</td>\n",
              "      <td>5813157</td>\n",
              "      <td>2016-12-23</td>\n",
              "      <td>7BKLCZ1jbUBVqRi2FVlTVw</td>\n",
              "      <td>0.748</td>\n",
              "      <td>0.524</td>\n",
              "      <td>8.0</td>\n",
              "      <td>-5.599</td>\n",
              "      <td>1.0</td>\n",
              "      <td>0.0338</td>\n",
              "      <td>0.414</td>\n",
              "      <td>0.000000</td>\n",
              "      <td>0.111</td>\n",
              "      <td>0.661</td>\n",
              "      <td>95.010</td>\n",
              "      <td>244960.0</td>\n",
              "      <td>4.0</td>\n",
              "      <td>Closer</td>\n",
              "      <td>2016</td>\n",
              "      <td>69GGBxA162lTqCwzJG5jLp</td>\n",
              "      <td>The Chainsmokers</td>\n",
              "      <td>[dance pop, edm, electropop, pop, pop dance, t...</td>\n",
              "      <td>us</td>\n",
              "    </tr>\n",
              "  </tbody>\n",
              "</table>\n",
              "</div>"
            ],
            "text/plain": [
              "   position  streams  ...                                             genres region\n",
              "0         1  8618267  ...  [canadian hip hop, canadian pop, hip hop, rap,...     us\n",
              "1         2  7946032  ...                  [atl hip hop, pop rap, rap, trap]     us\n",
              "2         3  7738517  ...     [canadian contemporary r&b, canadian pop, pop]     us\n",
              "3         4  6209336  ...  [hip hop, melodic rap, mississippi hip hop, po...     us\n",
              "4         5  5813157  ...  [dance pop, edm, electropop, pop, pop dance, t...     us\n",
              "\n",
              "[5 rows x 23 columns]"
            ]
          },
          "metadata": {},
          "execution_count": 6
        }
      ]
    },
    {
      "cell_type": "markdown",
      "metadata": {
        "id": "jY5Tda71ILd5"
      },
      "source": [
        "<a name=\"3\"></a>\n",
        "# 3. Data Cleaning\n",
        "----"
      ]
    },
    {
      "cell_type": "markdown",
      "metadata": {
        "id": "pyrcjuk-U5gD"
      },
      "source": [
        "There are a few cases where the release date on the song is incorrect and might point to a remastered version. This code will find the song's original release date so it can be used for visualization later. Be aware this takes a long time so you should only run this for countries that already have the result preloaded."
      ]
    },
    {
      "cell_type": "markdown",
      "metadata": {
        "id": "bo9bVdL4SoYQ"
      },
      "source": [
        "<a name=\"3-A\"></a>\n",
        "### 3-A. Fix release dates (this takes a long time)"
      ]
    },
    {
      "cell_type": "code",
      "metadata": {
        "id": "p3O2t0xT2uKV"
      },
      "source": [
        "#@title  { display-mode: \"form\" }\n",
        "fix_release_dates = True #@param {type:\"boolean\"}\n",
        "if fix_release_dates and not os.path.exists(f'spotify_dataset_{country}.csv'):\n",
        "    temp_df = df.drop_duplicates(['track', 'artist'])\n",
        "    i = 0\n",
        "    temp_df.dropna(inplace=True)\n",
        "    counter = 0\n",
        "    token = \"<insert_token_here>\"\n",
        "    out = display(progress(0, len(temp_df)), display_id=True)    \n",
        "    while i < len(temp_df): \n",
        "        out.update(progress(i , len(temp_df)))\n",
        "        song = temp_df.iloc[i]\n",
        "        url = f'https://api.spotify.com/v1/search'\n",
        "        req = http.get(\n",
        "            url,\n",
        "            params={\n",
        "                'q': song['track'] + ' ' + song['artist'],\n",
        "                'type': 'track',\n",
        "                'market': song['region']\n",
        "            },\n",
        "            headers={\n",
        "                \"Accept\": \"application/json\",\n",
        "                \"Content-Type\": \"application/json\",\n",
        "                \"Authorization\": f\"Bearer {token}\",\n",
        "            },\n",
        "        )\n",
        "        try:\n",
        "            data = req.json()[\"tracks\"][\"items\"][0]\n",
        "        except:\n",
        "            if 'error' in req.json() and int(req.json()['error']['status']) == 401:\n",
        "                token = input(\"Input new token: \")\n",
        "                continue\n",
        "            i += 1\n",
        "            continue\n",
        "        if data['album']['release_date'].split('-')[0] != song['release_date']:\n",
        "            if data['artists'][0]['name'] == song['artist'] and data['name'] == song['track']:\n",
        "                temp_df.loc[temp_df.song_id == song.song_id, 'release_date'] = min(int(data['album']['release_date'].split('-')[0]), int(song['release_date']))\n",
        "                counter += 1\n",
        "        i += 1\n",
        "    temp_df = df[df.columns.drop('release_date')].merge(temp_df[['release_date', 'track', 'artist']], on=['track', 'artist'])\n",
        "    temp_df.to_csv(f'spotify_dataset_{country}.csv')\n",
        "    del temp_df\n",
        "if os.path.exists(f'spotify_dataset_{country}.csv') or fix_release_dates:\n",
        "    df = df[df.columns.drop('release_date')].merge(pd.read_csv(f'spotify_dataset_{country}.csv')[['release_date', 'track', 'artist']].drop_duplicates(['track', 'artist']), on=['track', 'artist'])\n",
        "    "
      ],
      "execution_count": null,
      "outputs": []
    },
    {
      "cell_type": "markdown",
      "metadata": {
        "id": "0JygdmLYWgOl"
      },
      "source": [
        "<a name=\"3-B\"></a>\n",
        "### 3-B. Load covid dataset for a specific country\n",
        "There is an option to select what country will be used to load the covid data ."
      ]
    },
    {
      "cell_type": "code",
      "metadata": {
        "colab": {
          "base_uri": "https://localhost:8080/"
        },
        "id": "oIy4bq8xBL6l",
        "outputId": "f7aa6801-9289-4350-8e02-3b63f42b7c1d"
      },
      "source": [
        "#@title Load covid dataset for a specific country { run: \"auto\", vertical-output: true, display-mode: \"form\" }\n",
        "covid_country = \"United States\" #@param [\"United States\", \"Afghanistan\", \"Africa\", \"Albania\", \"Algeria\", \"Andorra\", \"Angola\", \"Anguilla\", \"Antigua and Barbuda\", \"Argentina\", \"Armenia\", \"Aruba\", \"Asia\", \"Australia\", \"Austria\", \"Azerbaijan\", \"Bahamas\", \"Bahrain\", \"Bangladesh\", \"Barbados\", \"Belarus\", \"Belgium\", \"Belize\", \"Benin\", \"Bermuda\", \"Bhutan\", \"Bolivia\", \"Bonaire Sint Eustatius and Saba\", \"Bosnia and Herzegovina\", \"Botswana\", \"Brazil\", \"British Virgin Islands\", \"Brunei\", \"Bulgaria\", \"Burkina Faso\", \"Burundi\", \"Cambodia\", \"Cameroon\", \"Canada\", \"Cape Verde\", \"Cayman Islands\", \"Central African Republic\", \"Chad\", \"Chile\", \"China\", \"Colombia\", \"Comoros\", \"Congo\", \"Cook Islands\", \"Costa Rica\", \"Cote d'Ivoire\", \"Croatia\", \"Cuba\", \"Curacao\", \"Cyprus\", \"Czechia\", \"Democratic Republic of Congo\", \"Denmark\", \"Djibouti\", \"Dominica\", \"Dominican Republic\", \"Ecuador\", \"Egypt\", \"El Salvador\", \"Equatorial Guinea\", \"Eritrea\", \"Estonia\", \"Eswatini\", \"Ethiopia\", \"Europe\", \"European Union\", \"Faeroe Islands\", \"Falkland Islands\", \"Fiji\", \"Finland\", \"France\", \"French Polynesia\", \"Gabon\", \"Gambia\", \"Georgia\", \"Germany\", \"Ghana\", \"Gibraltar\", \"Greece\", \"Greenland\", \"Grenada\", \"Guatemala\", \"Guernsey\", \"Guinea\", \"Guinea-Bissau\", \"Guyana\", \"Haiti\", \"Honduras\", \"Hong Kong\", \"Hungary\", \"Iceland\", \"India\", \"Indonesia\", \"International\", \"Iran\", \"Iraq\", \"Ireland\", \"Isle of Man\", \"Israel\", \"Italy\", \"Jamaica\", \"Japan\", \"Jersey\", \"Jordan\", \"Kazakhstan\", \"Kenya\", \"Kiribati\", \"Kosovo\", \"Kuwait\", \"Kyrgyzstan\", \"Laos\", \"Latvia\", \"Lebanon\", \"Lesotho\", \"Liberia\", \"Libya\", \"Liechtenstein\", \"Lithuania\", \"Luxembourg\", \"Macao\", \"Madagascar\", \"Malawi\", \"Malaysia\", \"Maldives\", \"Mali\", \"Malta\", \"Marshall Islands\", \"Mauritania\", \"Mauritius\", \"Mexico\", \"Micronesia (country)\", \"Moldova\", \"Monaco\", \"Mongolia\", \"Montenegro\", \"Montserrat\", \"Morocco\", \"Mozambique\", \"Myanmar\", \"Namibia\", \"Nauru\", \"Nepal\", \"Netherlands\", \"New Caledonia\", \"New Zealand\", \"Nicaragua\", \"Niger\", \"Nigeria\", \"Niue\", \"North America\", \"North Macedonia\", \"Northern Cyprus\", \"Norway\", \"Oceania\", \"Oman\", \"Pakistan\", \"Palau\", \"Palestine\", \"Panama\", \"Papua New Guinea\", \"Paraguay\", \"Peru\", \"Philippines\", \"Pitcairn\", \"Poland\", \"Portugal\", \"Qatar\", \"Romania\", \"Russia\", \"Rwanda\", \"Saint Helena\", \"Saint Kitts and Nevis\", \"Saint Lucia\", \"Saint Vincent and the Grenadines\", \"Samoa\", \"San Marino\", \"Sao Tome and Principe\", \"Saudi Arabia\", \"Senegal\", \"Serbia\", \"Seychelles\", \"Sierra Leone\", \"Singapore\", \"Sint Maarten (Dutch part)\", \"Slovakia\", \"Slovenia\", \"Solomon Islands\", \"Somalia\", \"South Africa\", \"South America\", \"South Korea\", \"South Sudan\", \"Spain\", \"Sri Lanka\", \"Sudan\", \"Suriname\", \"Sweden\", \"Switzerland\", \"Syria\", \"Taiwan\", \"Tajikistan\", \"Tanzania\", \"Thailand\", \"Timor\", \"Togo\", \"Tokelau\", \"Tonga\", \"Trinidad and Tobago\", \"Tunisia\", \"Turkey\", \"Turkmenistan\", \"Turks and Caicos Islands\", \"Tuvalu\", \"Uganda\", \"Ukraine\", \"United Arab Emirates\", \"United Kingdom\", \"United States\", \"Uruguay\", \"Uzbekistan\", \"Vanuatu\", \"Vatican\", \"Venezuela\", \"Vietnam\", \"Wallis and Futuna\", \"World\", \"Yemen\", \"Zambia\", \"Zimbabwe\"]\n",
        "cdf= pd.read_csv('owid-covid-data.csv')\n",
        "cdf = cdf[cdf.location == covid_country]\n",
        "cdf['week_date_ord'] = cdf['date'].apply(lambda date: pd.to_datetime(date).toordinal())\n",
        "cdf.head()"
      ],
      "execution_count": null,
      "outputs": [
        {
          "output_type": "execute_result",
          "data": {
            "text/html": [
              "<div>\n",
              "<style scoped>\n",
              "    .dataframe tbody tr th:only-of-type {\n",
              "        vertical-align: middle;\n",
              "    }\n",
              "\n",
              "    .dataframe tbody tr th {\n",
              "        vertical-align: top;\n",
              "    }\n",
              "\n",
              "    .dataframe thead th {\n",
              "        text-align: right;\n",
              "    }\n",
              "</style>\n",
              "<table border=\"1\" class=\"dataframe\">\n",
              "  <thead>\n",
              "    <tr style=\"text-align: right;\">\n",
              "      <th></th>\n",
              "      <th>iso_code</th>\n",
              "      <th>continent</th>\n",
              "      <th>location</th>\n",
              "      <th>date</th>\n",
              "      <th>total_cases</th>\n",
              "      <th>new_cases</th>\n",
              "      <th>new_cases_smoothed</th>\n",
              "      <th>total_deaths</th>\n",
              "      <th>new_deaths</th>\n",
              "      <th>new_deaths_smoothed</th>\n",
              "      <th>total_cases_per_million</th>\n",
              "      <th>new_cases_per_million</th>\n",
              "      <th>new_cases_smoothed_per_million</th>\n",
              "      <th>total_deaths_per_million</th>\n",
              "      <th>new_deaths_per_million</th>\n",
              "      <th>new_deaths_smoothed_per_million</th>\n",
              "      <th>reproduction_rate</th>\n",
              "      <th>icu_patients</th>\n",
              "      <th>icu_patients_per_million</th>\n",
              "      <th>hosp_patients</th>\n",
              "      <th>hosp_patients_per_million</th>\n",
              "      <th>weekly_icu_admissions</th>\n",
              "      <th>weekly_icu_admissions_per_million</th>\n",
              "      <th>weekly_hosp_admissions</th>\n",
              "      <th>weekly_hosp_admissions_per_million</th>\n",
              "      <th>new_tests</th>\n",
              "      <th>total_tests</th>\n",
              "      <th>total_tests_per_thousand</th>\n",
              "      <th>new_tests_per_thousand</th>\n",
              "      <th>new_tests_smoothed</th>\n",
              "      <th>new_tests_smoothed_per_thousand</th>\n",
              "      <th>positive_rate</th>\n",
              "      <th>tests_per_case</th>\n",
              "      <th>tests_units</th>\n",
              "      <th>total_vaccinations</th>\n",
              "      <th>people_vaccinated</th>\n",
              "      <th>people_fully_vaccinated</th>\n",
              "      <th>total_boosters</th>\n",
              "      <th>new_vaccinations</th>\n",
              "      <th>new_vaccinations_smoothed</th>\n",
              "      <th>total_vaccinations_per_hundred</th>\n",
              "      <th>people_vaccinated_per_hundred</th>\n",
              "      <th>people_fully_vaccinated_per_hundred</th>\n",
              "      <th>total_boosters_per_hundred</th>\n",
              "      <th>new_vaccinations_smoothed_per_million</th>\n",
              "      <th>stringency_index</th>\n",
              "      <th>population</th>\n",
              "      <th>population_density</th>\n",
              "      <th>median_age</th>\n",
              "      <th>aged_65_older</th>\n",
              "      <th>aged_70_older</th>\n",
              "      <th>gdp_per_capita</th>\n",
              "      <th>extreme_poverty</th>\n",
              "      <th>cardiovasc_death_rate</th>\n",
              "      <th>diabetes_prevalence</th>\n",
              "      <th>female_smokers</th>\n",
              "      <th>male_smokers</th>\n",
              "      <th>handwashing_facilities</th>\n",
              "      <th>hospital_beds_per_thousand</th>\n",
              "      <th>life_expectancy</th>\n",
              "      <th>human_development_index</th>\n",
              "      <th>excess_mortality_cumulative_absolute</th>\n",
              "      <th>excess_mortality_cumulative</th>\n",
              "      <th>excess_mortality</th>\n",
              "      <th>excess_mortality_cumulative_per_million</th>\n",
              "      <th>week_date_ord</th>\n",
              "    </tr>\n",
              "  </thead>\n",
              "  <tbody>\n",
              "    <tr>\n",
              "      <th>119380</th>\n",
              "      <td>USA</td>\n",
              "      <td>North America</td>\n",
              "      <td>United States</td>\n",
              "      <td>2020-01-22</td>\n",
              "      <td>1.0</td>\n",
              "      <td>NaN</td>\n",
              "      <td>NaN</td>\n",
              "      <td>NaN</td>\n",
              "      <td>NaN</td>\n",
              "      <td>NaN</td>\n",
              "      <td>0.003</td>\n",
              "      <td>NaN</td>\n",
              "      <td>NaN</td>\n",
              "      <td>NaN</td>\n",
              "      <td>NaN</td>\n",
              "      <td>NaN</td>\n",
              "      <td>NaN</td>\n",
              "      <td>NaN</td>\n",
              "      <td>NaN</td>\n",
              "      <td>NaN</td>\n",
              "      <td>NaN</td>\n",
              "      <td>NaN</td>\n",
              "      <td>NaN</td>\n",
              "      <td>NaN</td>\n",
              "      <td>NaN</td>\n",
              "      <td>NaN</td>\n",
              "      <td>NaN</td>\n",
              "      <td>NaN</td>\n",
              "      <td>NaN</td>\n",
              "      <td>NaN</td>\n",
              "      <td>NaN</td>\n",
              "      <td>NaN</td>\n",
              "      <td>NaN</td>\n",
              "      <td>NaN</td>\n",
              "      <td>NaN</td>\n",
              "      <td>NaN</td>\n",
              "      <td>NaN</td>\n",
              "      <td>NaN</td>\n",
              "      <td>NaN</td>\n",
              "      <td>NaN</td>\n",
              "      <td>NaN</td>\n",
              "      <td>NaN</td>\n",
              "      <td>NaN</td>\n",
              "      <td>NaN</td>\n",
              "      <td>NaN</td>\n",
              "      <td>0.0</td>\n",
              "      <td>332915074.0</td>\n",
              "      <td>35.608</td>\n",
              "      <td>38.3</td>\n",
              "      <td>15.413</td>\n",
              "      <td>9.732</td>\n",
              "      <td>54225.446</td>\n",
              "      <td>1.2</td>\n",
              "      <td>151.089</td>\n",
              "      <td>10.79</td>\n",
              "      <td>19.1</td>\n",
              "      <td>24.6</td>\n",
              "      <td>NaN</td>\n",
              "      <td>2.77</td>\n",
              "      <td>78.86</td>\n",
              "      <td>0.926</td>\n",
              "      <td>NaN</td>\n",
              "      <td>NaN</td>\n",
              "      <td>NaN</td>\n",
              "      <td>NaN</td>\n",
              "      <td>737446</td>\n",
              "    </tr>\n",
              "    <tr>\n",
              "      <th>119381</th>\n",
              "      <td>USA</td>\n",
              "      <td>North America</td>\n",
              "      <td>United States</td>\n",
              "      <td>2020-01-23</td>\n",
              "      <td>1.0</td>\n",
              "      <td>0.0</td>\n",
              "      <td>NaN</td>\n",
              "      <td>NaN</td>\n",
              "      <td>NaN</td>\n",
              "      <td>NaN</td>\n",
              "      <td>0.003</td>\n",
              "      <td>0.000</td>\n",
              "      <td>NaN</td>\n",
              "      <td>NaN</td>\n",
              "      <td>NaN</td>\n",
              "      <td>NaN</td>\n",
              "      <td>NaN</td>\n",
              "      <td>NaN</td>\n",
              "      <td>NaN</td>\n",
              "      <td>NaN</td>\n",
              "      <td>NaN</td>\n",
              "      <td>NaN</td>\n",
              "      <td>NaN</td>\n",
              "      <td>NaN</td>\n",
              "      <td>NaN</td>\n",
              "      <td>NaN</td>\n",
              "      <td>NaN</td>\n",
              "      <td>NaN</td>\n",
              "      <td>NaN</td>\n",
              "      <td>NaN</td>\n",
              "      <td>NaN</td>\n",
              "      <td>NaN</td>\n",
              "      <td>NaN</td>\n",
              "      <td>NaN</td>\n",
              "      <td>NaN</td>\n",
              "      <td>NaN</td>\n",
              "      <td>NaN</td>\n",
              "      <td>NaN</td>\n",
              "      <td>NaN</td>\n",
              "      <td>NaN</td>\n",
              "      <td>NaN</td>\n",
              "      <td>NaN</td>\n",
              "      <td>NaN</td>\n",
              "      <td>NaN</td>\n",
              "      <td>NaN</td>\n",
              "      <td>0.0</td>\n",
              "      <td>332915074.0</td>\n",
              "      <td>35.608</td>\n",
              "      <td>38.3</td>\n",
              "      <td>15.413</td>\n",
              "      <td>9.732</td>\n",
              "      <td>54225.446</td>\n",
              "      <td>1.2</td>\n",
              "      <td>151.089</td>\n",
              "      <td>10.79</td>\n",
              "      <td>19.1</td>\n",
              "      <td>24.6</td>\n",
              "      <td>NaN</td>\n",
              "      <td>2.77</td>\n",
              "      <td>78.86</td>\n",
              "      <td>0.926</td>\n",
              "      <td>NaN</td>\n",
              "      <td>NaN</td>\n",
              "      <td>NaN</td>\n",
              "      <td>NaN</td>\n",
              "      <td>737447</td>\n",
              "    </tr>\n",
              "    <tr>\n",
              "      <th>119382</th>\n",
              "      <td>USA</td>\n",
              "      <td>North America</td>\n",
              "      <td>United States</td>\n",
              "      <td>2020-01-24</td>\n",
              "      <td>2.0</td>\n",
              "      <td>1.0</td>\n",
              "      <td>NaN</td>\n",
              "      <td>NaN</td>\n",
              "      <td>NaN</td>\n",
              "      <td>NaN</td>\n",
              "      <td>0.006</td>\n",
              "      <td>0.003</td>\n",
              "      <td>NaN</td>\n",
              "      <td>NaN</td>\n",
              "      <td>NaN</td>\n",
              "      <td>NaN</td>\n",
              "      <td>NaN</td>\n",
              "      <td>NaN</td>\n",
              "      <td>NaN</td>\n",
              "      <td>NaN</td>\n",
              "      <td>NaN</td>\n",
              "      <td>NaN</td>\n",
              "      <td>NaN</td>\n",
              "      <td>NaN</td>\n",
              "      <td>NaN</td>\n",
              "      <td>NaN</td>\n",
              "      <td>NaN</td>\n",
              "      <td>NaN</td>\n",
              "      <td>NaN</td>\n",
              "      <td>NaN</td>\n",
              "      <td>NaN</td>\n",
              "      <td>NaN</td>\n",
              "      <td>NaN</td>\n",
              "      <td>NaN</td>\n",
              "      <td>NaN</td>\n",
              "      <td>NaN</td>\n",
              "      <td>NaN</td>\n",
              "      <td>NaN</td>\n",
              "      <td>NaN</td>\n",
              "      <td>NaN</td>\n",
              "      <td>NaN</td>\n",
              "      <td>NaN</td>\n",
              "      <td>NaN</td>\n",
              "      <td>NaN</td>\n",
              "      <td>NaN</td>\n",
              "      <td>0.0</td>\n",
              "      <td>332915074.0</td>\n",
              "      <td>35.608</td>\n",
              "      <td>38.3</td>\n",
              "      <td>15.413</td>\n",
              "      <td>9.732</td>\n",
              "      <td>54225.446</td>\n",
              "      <td>1.2</td>\n",
              "      <td>151.089</td>\n",
              "      <td>10.79</td>\n",
              "      <td>19.1</td>\n",
              "      <td>24.6</td>\n",
              "      <td>NaN</td>\n",
              "      <td>2.77</td>\n",
              "      <td>78.86</td>\n",
              "      <td>0.926</td>\n",
              "      <td>NaN</td>\n",
              "      <td>NaN</td>\n",
              "      <td>NaN</td>\n",
              "      <td>NaN</td>\n",
              "      <td>737448</td>\n",
              "    </tr>\n",
              "    <tr>\n",
              "      <th>119383</th>\n",
              "      <td>USA</td>\n",
              "      <td>North America</td>\n",
              "      <td>United States</td>\n",
              "      <td>2020-01-25</td>\n",
              "      <td>2.0</td>\n",
              "      <td>0.0</td>\n",
              "      <td>NaN</td>\n",
              "      <td>NaN</td>\n",
              "      <td>NaN</td>\n",
              "      <td>NaN</td>\n",
              "      <td>0.006</td>\n",
              "      <td>0.000</td>\n",
              "      <td>NaN</td>\n",
              "      <td>NaN</td>\n",
              "      <td>NaN</td>\n",
              "      <td>NaN</td>\n",
              "      <td>NaN</td>\n",
              "      <td>NaN</td>\n",
              "      <td>NaN</td>\n",
              "      <td>NaN</td>\n",
              "      <td>NaN</td>\n",
              "      <td>NaN</td>\n",
              "      <td>NaN</td>\n",
              "      <td>NaN</td>\n",
              "      <td>NaN</td>\n",
              "      <td>NaN</td>\n",
              "      <td>NaN</td>\n",
              "      <td>NaN</td>\n",
              "      <td>NaN</td>\n",
              "      <td>NaN</td>\n",
              "      <td>NaN</td>\n",
              "      <td>NaN</td>\n",
              "      <td>NaN</td>\n",
              "      <td>NaN</td>\n",
              "      <td>NaN</td>\n",
              "      <td>NaN</td>\n",
              "      <td>NaN</td>\n",
              "      <td>NaN</td>\n",
              "      <td>NaN</td>\n",
              "      <td>NaN</td>\n",
              "      <td>NaN</td>\n",
              "      <td>NaN</td>\n",
              "      <td>NaN</td>\n",
              "      <td>NaN</td>\n",
              "      <td>NaN</td>\n",
              "      <td>0.0</td>\n",
              "      <td>332915074.0</td>\n",
              "      <td>35.608</td>\n",
              "      <td>38.3</td>\n",
              "      <td>15.413</td>\n",
              "      <td>9.732</td>\n",
              "      <td>54225.446</td>\n",
              "      <td>1.2</td>\n",
              "      <td>151.089</td>\n",
              "      <td>10.79</td>\n",
              "      <td>19.1</td>\n",
              "      <td>24.6</td>\n",
              "      <td>NaN</td>\n",
              "      <td>2.77</td>\n",
              "      <td>78.86</td>\n",
              "      <td>0.926</td>\n",
              "      <td>NaN</td>\n",
              "      <td>NaN</td>\n",
              "      <td>NaN</td>\n",
              "      <td>NaN</td>\n",
              "      <td>737449</td>\n",
              "    </tr>\n",
              "    <tr>\n",
              "      <th>119384</th>\n",
              "      <td>USA</td>\n",
              "      <td>North America</td>\n",
              "      <td>United States</td>\n",
              "      <td>2020-01-26</td>\n",
              "      <td>5.0</td>\n",
              "      <td>3.0</td>\n",
              "      <td>NaN</td>\n",
              "      <td>NaN</td>\n",
              "      <td>NaN</td>\n",
              "      <td>NaN</td>\n",
              "      <td>0.015</td>\n",
              "      <td>0.009</td>\n",
              "      <td>NaN</td>\n",
              "      <td>NaN</td>\n",
              "      <td>NaN</td>\n",
              "      <td>NaN</td>\n",
              "      <td>NaN</td>\n",
              "      <td>NaN</td>\n",
              "      <td>NaN</td>\n",
              "      <td>NaN</td>\n",
              "      <td>NaN</td>\n",
              "      <td>NaN</td>\n",
              "      <td>NaN</td>\n",
              "      <td>NaN</td>\n",
              "      <td>NaN</td>\n",
              "      <td>NaN</td>\n",
              "      <td>NaN</td>\n",
              "      <td>NaN</td>\n",
              "      <td>NaN</td>\n",
              "      <td>NaN</td>\n",
              "      <td>NaN</td>\n",
              "      <td>NaN</td>\n",
              "      <td>NaN</td>\n",
              "      <td>NaN</td>\n",
              "      <td>NaN</td>\n",
              "      <td>NaN</td>\n",
              "      <td>NaN</td>\n",
              "      <td>NaN</td>\n",
              "      <td>NaN</td>\n",
              "      <td>NaN</td>\n",
              "      <td>NaN</td>\n",
              "      <td>NaN</td>\n",
              "      <td>NaN</td>\n",
              "      <td>NaN</td>\n",
              "      <td>NaN</td>\n",
              "      <td>0.0</td>\n",
              "      <td>332915074.0</td>\n",
              "      <td>35.608</td>\n",
              "      <td>38.3</td>\n",
              "      <td>15.413</td>\n",
              "      <td>9.732</td>\n",
              "      <td>54225.446</td>\n",
              "      <td>1.2</td>\n",
              "      <td>151.089</td>\n",
              "      <td>10.79</td>\n",
              "      <td>19.1</td>\n",
              "      <td>24.6</td>\n",
              "      <td>NaN</td>\n",
              "      <td>2.77</td>\n",
              "      <td>78.86</td>\n",
              "      <td>0.926</td>\n",
              "      <td>-9154.7</td>\n",
              "      <td>-3.68</td>\n",
              "      <td>-3.08</td>\n",
              "      <td>-27.498605</td>\n",
              "      <td>737450</td>\n",
              "    </tr>\n",
              "  </tbody>\n",
              "</table>\n",
              "</div>"
            ],
            "text/plain": [
              "       iso_code  ... week_date_ord\n",
              "119380      USA  ...        737446\n",
              "119381      USA  ...        737447\n",
              "119382      USA  ...        737448\n",
              "119383      USA  ...        737449\n",
              "119384      USA  ...        737450\n",
              "\n",
              "[5 rows x 66 columns]"
            ]
          },
          "metadata": {},
          "execution_count": 8
        }
      ]
    },
    {
      "cell_type": "markdown",
      "metadata": {
        "id": "8HuPneVhWzPb"
      },
      "source": [
        "Not all of the countries from the spotify dataset have logged top charted songs for each week up until 2016, so this chart will show which weeks are missing."
      ]
    },
    {
      "cell_type": "markdown",
      "metadata": {
        "id": "L-vnl3XlX7Kl"
      },
      "source": [
        "<a name=\"4\"></a>\n",
        "# 4. Showing Missing Values\n",
        "---"
      ]
    },
    {
      "cell_type": "markdown",
      "metadata": {
        "id": "zUmpcmldTACh"
      },
      "source": [
        "<a name=\"4-A\"></a>\n",
        "### 4-A. Plot missing values per country by week charted"
      ]
    },
    {
      "cell_type": "code",
      "metadata": {
        "colab": {
          "base_uri": "https://localhost:8080/",
          "height": 979
        },
        "id": "QP1uVdqS1KjP",
        "outputId": "97a3eab5-7d49-43ba-9217-93e4fbdc4835"
      },
      "source": [
        "#@title  { vertical-output: true, display-mode: \"form\" }\n",
        "y = pd.get_dummies(df.region, prefix='region')\n",
        "region_df = pd.concat([df[['week_charted']], y], axis=1)\n",
        "region_df = region_df.groupby(by='week_charted', axis=0).sum()\n",
        "region_df = region_df.reindex(pd.date_range('2016-12-23', max(df.week_charted.dt.date),freq='W-FRI'), method=None)\n",
        "region_df = region_df.apply(lambda x: x.apply(lambda y: None if y == 0 else y))\n",
        "ax = msno.matrix(region_df, figsize=(25,15),labels=True)\n",
        "ax.set_yticks(range(len(region_df.index.unique())))\n",
        "yticklabels = pd.date_range(region_df.index[0],region_df.index[-1], freq='W-FRI').map(lambda t: t.strftime('%Y-%m-%d')).tolist()\n",
        "yticklabels[1::4] = map(lambda x: '', yticklabels[1::4])\n",
        "yticklabels[2::4] = map(lambda x: '', yticklabels[2::4])\n",
        "yticklabels[3::4] = map(lambda x: '', yticklabels[3::4])\n",
        "ax.set_yticklabels(yticklabels, fontsize=10)\n",
        "ax.yaxis.set_ticks_position('left')"
      ],
      "execution_count": null,
      "outputs": [
        {
          "data": {
            "image/png": "[encoded data removed]",
            "text/plain": [
              "<Figure size 1800x1080 with 2 Axes>"
            ]
          },
          "metadata": {},
          "output_type": "display_data"
        }
      ]
    },
    {
      "cell_type": "markdown",
      "metadata": {
        "id": "GWGE-UrfXP4I"
      },
      "source": [
        "<a name=\"4-B\"></a>\n",
        "### 4-B. Plot missing values for the current country for each position missing in every week charted\n",
        "This graph shows where missing songs are in each week based on position in the week. It helps to click on the graph for a close up view. "
      ]
    },
    {
      "cell_type": "code",
      "metadata": {
        "id": "k0h3pwdtlnGw"
      },
      "source": [
        "#@title  { vertical-output: true, display-mode: \"form\" }\n",
        "if country != 'all':\n",
        "    y = pd.get_dummies(df.week_charted.dt.date)\n",
        "    region_df = pd.concat([df[['position']], y], axis=1)\n",
        "    region_df = region_df.groupby(by='position', axis=0).sum()\n",
        "    region_df = region_df.apply(lambda x: x.apply(lambda y: None if y == 0 else y))\n",
        "    msno.matrix(region_df, figsize=(100,10), labels=True)"
      ],
      "execution_count": null,
      "outputs": []
    },
    {
      "cell_type": "markdown",
      "metadata": {
        "id": "IUtPgwoGKkNN"
      },
      "source": [
        "<a name=\"5\"></a>\n",
        "# 5. Data Visualization\n",
        "----"
      ]
    },
    {
      "cell_type": "markdown",
      "metadata": {
        "id": "FyuzgFAiYDKH"
      },
      "source": [
        "<a name=\"5-A\"></a>\n",
        "### 5-A. Genres"
      ]
    },
    {
      "cell_type": "markdown",
      "metadata": {
        "id": "zrf819qOYJO0"
      },
      "source": [
        "This code converts the genre to a multilabel version of a one-hot encoded matrix, then counts the number of times the genre has appeared based on week charted and region. The result has already been preloaded so there is no need to run it again. In order to run the original code, you will need 50+ GB of RAM which Colab does not offer in the free version. "
      ]
    },
    {
      "cell_type": "code",
      "metadata": {
        "id": "GdmNt-X3vwPp"
      },
      "source": [
        "#@title Generate a dataframe containing the count of each genre based on week charted and country { display-mode: \"form\" }\n",
        "if not os.path.exists('spotify_genre.feather'):\n",
        "  genre_set = set()\n",
        "  df.drop_duplicates(subset = [\"song_id\"])['genres'].apply(lambda x: [genre_set.add(i) for i in x])\n",
        "  genre_list = list(genre_set)\n",
        "  genre_df = df[['song_id', 'genres']].drop_duplicates(subset = [\"song_id\"])\n",
        "  v = genre_df.genres.values\n",
        "  l = [len(x) for x in v.tolist()]\n",
        "  f, u = pd.factorize(np.concatenate(v))\n",
        "  n, m = len(v), u.size\n",
        "  i = np.arange(n).repeat(l)\n",
        "  dummies = pd.DataFrame(\n",
        "      np.bincount(i * m + f, minlength=n * m).reshape(n, m),\n",
        "      genre_df.index, u, dtype='int8')\n",
        "  genre_df = genre_df.drop('genres', 1).join(dummies)\n",
        "  genre_df = df[['song_id', 'week_charted', 'region']].merge(genre_df, on='song_id', how='inner')\n",
        "  genre_week_df = genre_df.groupby(by=['week_charted', 'region'], squeeze=True)[genre_list].apply(lambda x: np.sum(x).astype('uint8'))\n",
        "  genre_data=[] \n",
        "  def genre_flatten(x):\n",
        "    for i,item in enumerate(x):\n",
        "      genre_data.append([pd.to_datetime(x._name[0]),x._name[1],x.index[i],item])\n",
        "  genre_week_df.apply(genre_flatten,axis=1)\n",
        "  genre_week_df = pd.DataFrame(data = genre_data, columns=['week_date','region','category','count'])    \n",
        "  genre_week_df['week_date_ord'] = data['week_date'].apply(lambda date: date.toordinal())\n",
        "else:\n",
        "    genre_week_df = pd.read_feather('spotify_genre.feather')\n",
        "    genre_week_df = genre_week_df[genre_week_df.region == country]"
      ],
      "execution_count": null,
      "outputs": []
    },
    {
      "cell_type": "markdown",
      "metadata": {
        "id": "g7Dkif9lpLZS"
      },
      "source": [
        "Select the top 15 categories that have the biggest difference in mean between pre-pandemic and during the pandemic. Normalize each count based on its category."
      ]
    },
    {
      "cell_type": "code",
      "metadata": {
        "id": "LWmDLG2VUiAG"
      },
      "source": [
        "genre_week_df = genre_week_df[genre_week_df.region == country]\n",
        "selected_categories = genre_week_df[genre_week_df['category'] != 0].groupby(['category']).apply(lambda x: abs((np.mean(x[x.week_date > datetime(2020,3,25)])-np.mean(x[x.week_date <= datetime(2020,3,25)]))/np.std(x[x.week_date <= datetime(2020,3,25)]))).sort_values(by='count', ascending=False).index.tolist()[0:15] \n",
        "category_mean = genre_week_df.groupby(\"category\")[\"count\"].mean()\n",
        "category_std = genre_week_df.groupby(\"category\")[\"count\"].std()\n",
        "def normalize(x):\n",
        "    x['norm_count'] = (x['count']-category_mean[x['category']])/category_std[x['category']]\n",
        "    return x\n",
        "genre_week_df = genre_week_df.apply(normalize,axis=1)\n",
        "genre_week_df.head()"
      ],
      "execution_count": null,
      "outputs": []
    },
    {
      "cell_type": "code",
      "metadata": {
        "id": "M_BlNpeArpqF"
      },
      "source": [
        " important_dates = [{'date': '2020-01-21', 'label': 'First US Coronavirus case'}]"
      ],
      "execution_count": null,
      "outputs": []
    },
    {
      "cell_type": "markdown",
      "metadata": {
        "id": "9GhCjWsnkH0S"
      },
      "source": [
        "Then, we will graph the normalized popularity of each genre (blue line) along the with the number of new covid cases (red line) over time. "
      ]
    },
    {
      "cell_type": "code",
      "metadata": {
        "id": "bJo7XzAp2jsj"
      },
      "source": [
        "data = genre_week_df\n",
        "cdf = cdf[cdf.week_date_ord.isin(data.week_date_ord.unique().tolist())]\n",
        "fig, axes = plt.subplots(5,3, figsize=(60,50))\n",
        "for i,ax in enumerate(axes.flatten()):\n",
        "    sns.lineplot(x=\"week_date_ord\", y=\"norm_count\", data=data[data.category==selected_categories[i]], ax=ax)\n",
        "    ax.axvline(pd.Timestamp(important_dates[0]['date']), linestyle='--')\n",
        "    plt.text(pd.Timestamp(important_dates[0]['date'])+timedelta(days=5),100,important_dates[0]['label'],rotation=90)\n",
        "    ax2 = ax.twinx()\n",
        "    sns.lineplot(x=\"week_date_ord\", y=\"new_cases\", data=cdf, ax=ax2, color=\"r\")\n",
        "    ax.set_title(selected_categories[i], fontdict={'fontsize': 20})\n",
        "    ax.set_xlim(data['week_date_ord'].min(), data['week_date_ord'].max())\n",
        "    ax.set_xlabel('date')\n",
        "    new_labels = [date.fromordinal(int(item)) for item in ax.get_xticks()]\n",
        "    ax.set_xticklabels(new_labels)\n",
        "plt.show()"
      ],
      "execution_count": null,
      "outputs": []
    },
    {
      "cell_type": "markdown",
      "metadata": {
        "id": "r0hTrqU-yjmN"
      },
      "source": [
        ""
      ]
    },
    {
      "cell_type": "markdown",
      "metadata": {
        "id": "nM6GfsXTnc6S"
      },
      "source": [
        "<a name=\"5-B\"></a>\n",
        "### 5-B. Song features\n"
      ]
    },
    {
      "cell_type": "markdown",
      "metadata": {
        "id": "CT7kG6XLnf0s"
      },
      "source": [
        "Here, we plot the average audio analysis features (blue line) for each week charted and the number of new covid cases (red line) over time."
      ]
    },
    {
      "cell_type": "code",
      "metadata": {
        "id": "P_WEHTw4z0FN"
      },
      "source": [
        "fig, axes = plt.subplots(5,2, figsize=(40,50))\n",
        "feature_cols = [\"danceability\", \"energy\", \"key\", \"loudness\", \"mode\", \"speechiness\", \"acousticness\", \"instrumentalness\", \"liveness\", \"valence\"]\n",
        "data = df.groupby('week_charted')[feature_cols].mean().reset_index()\n",
        "data['week_date_ord'] = data['week_charted'].apply(lambda date: date.toordinal())\n",
        "for i,ax in enumerate(axes.flatten()):\n",
        "    sns.lineplot(x=\"week_date_ord\", y=feature_cols[i], data=data, ax=ax)\n",
        "    ax2 = ax.twinx()\n",
        "    sns.lineplot(x=\"week_date_ord\", y=\"new_cases\", data=cdf, ax=ax2, color=\"r\")\n",
        "    ax.set_title(feature_cols[i], fontdict={'fontsize': 20})\n",
        "    ax.set_xlim(data['week_date_ord'].min(), data['week_date_ord'].max())\n",
        "    ax.set_xlabel('date')\n",
        "    new_labels = [date.fromordinal(int(item)) for item in ax.get_xticks()]\n",
        "    ax.set_xticklabels(new_labels)\n",
        "plt.show()"
      ],
      "execution_count": null,
      "outputs": []
    },
    {
      "cell_type": "code",
      "metadata": {
        "colab": {
          "background_save": true
        },
        "id": "FKFTLe9HUiAH",
        "outputId": "5ba27b81-5c72-4e01-fd82-da4c8d85a09d"
      },
      "source": [
        "import matplotlib\n",
        "import matplotlib.pyplot as plt\n",
        "data = df\n",
        "data['week_date_ord'] = data['week_charted'].apply(lambda date: date.toordinal())\n",
        "data['release_date'] = data.release_date.apply(lambda x: int(x))\n",
        "g = sns.lmplot(x='week_date_ord', y='release_date', data=data, palette='tab10', height=10, lowess=True,x_jitter=.5, y_jitter=.5,scatter_kws={\"alpha\":.3,\"s\": 5})\n",
        "for ax in g.axes.flat:\n",
        "    ax.set_xlim(data['week_date_ord'].min(), data['week_date_ord'].max())\n",
        "    ax.set_ylim(data['release_date'].min(), data['release_date'].max())\n",
        "    ax.set_xlabel('date')\n",
        "    new_labels = [date.fromordinal(int(item)) for item in ax.get_xticks()]\n",
        "    ax.set_xticklabels(new_labels)"
      ],
      "execution_count": null,
      "outputs": [
        {
          "data": {
            "image/png": "[encoded data removed]",
            "text/plain": [
              "<Figure size 720x720 with 1 Axes>"
            ]
          },
          "metadata": {},
          "output_type": "display_data"
        }
      ]
    },
    {
      "cell_type": "code",
      "metadata": {
        "id": "uU6lkAg7MBl4"
      },
      "source": [
        ""
      ],
      "execution_count": null,
      "outputs": []
    }
  ]
}